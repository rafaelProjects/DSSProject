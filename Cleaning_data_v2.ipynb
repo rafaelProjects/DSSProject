{
 "cells": [
  {
   "cell_type": "code",
   "execution_count": 177,
   "metadata": {},
   "outputs": [],
   "source": [
    "import pandas as pd\n",
    "import nltk\n",
    "import random\n",
    "import numpy as np\n",
    "from sklearn.linear_model import LogisticRegression\n",
    "from sklearn.model_selection import train_test_split\n",
    "import matplotlib.pyplot as plt\n"
   ]
  },
  {
   "cell_type": "code",
   "execution_count": null,
   "metadata": {},
   "outputs": [],
   "source": [
    "data = pd.read_csv(\"sms-spam-collection-dataset/spam.csv\", encoding='latin-1')\n",
    "data_labels = data"
   ]
  },
  {
   "cell_type": "code",
   "execution_count": 28,
   "metadata": {},
   "outputs": [],
   "source": [
    "data = data[['v1', 'v2']] "
   ]
  },
  {
   "cell_type": "code",
   "execution_count": 9,
   "metadata": {},
   "outputs": [],
   "source": [
    "i=0\n",
    "documents = []\n",
    "while i < int(data.shape[0]):\n",
    "    documents.append((data.iloc[i][0], data.iloc[i][1].split()))\n",
    "    i+=1"
   ]
  },
  {
   "cell_type": "code",
   "execution_count": 20,
   "metadata": {},
   "outputs": [],
   "source": [
    "#shuffling as to not get bias data\n",
    "random.shuffle(documents)"
   ]
  },
  {
   "cell_type": "code",
   "execution_count": 95,
   "metadata": {},
   "outputs": [
    {
     "data": {
      "text/plain": [
       "array([[0.],\n",
       "       [0.],\n",
       "       [1.],\n",
       "       ...,\n",
       "       [0.],\n",
       "       [0.],\n",
       "       [0.]])"
      ]
     },
     "execution_count": 95,
     "metadata": {},
     "output_type": "execute_result"
    }
   ],
   "source": [
    "#Function that turns spam-ham dataset to 0-1 table\n",
    "\n",
    "labels = data_labels[['v1']]\n",
    "span_ham_list = []\n",
    "for i in labels.values:\n",
    "    span_ham_list.extend(i)\n",
    "    \n",
    "def spam_ham_converter(lst):\n",
    "    new_a = np.array([])\n",
    "    for i in lst:\n",
    "        if i == 'ham':\n",
    "            new_a = np.concatenate((new_a, np.array([0])))\n",
    "            continue\n",
    "        new_a = np.concatenate((new_a, np.array([1])))\n",
    "    return new_a.reshape(5572,1)\n",
    "\n",
    "spam_ham_list = spam_ham_converter(span_ham_list)\n",
    "Y = spam_ham_list\n",
    "Y            "
   ]
  },
  {
   "cell_type": "code",
   "execution_count": 11,
   "metadata": {},
   "outputs": [],
   "source": [
    "every_word = []\n",
    "for j in data[\"v2\"]:\n",
    "    j = j.lower()\n",
    "    split_word= j.split()\n",
    "    every_word.extend(split_word)\n"
   ]
  },
  {
   "cell_type": "code",
   "execution_count": 12,
   "metadata": {},
   "outputs": [],
   "source": [
    "#Frequency distribution in NLTK to remove useless words\n",
    "every_word=nltk.FreqDist(every_word)"
   ]
  },
  {
   "cell_type": "code",
   "execution_count": 115,
   "metadata": {},
   "outputs": [],
   "source": [
    "word_features = [x[0] for x in every_word.most_common(1500)]"
   ]
  },
  {
   "cell_type": "code",
   "execution_count": 114,
   "metadata": {},
   "outputs": [
    {
     "data": {
      "text/plain": [
       "\"Free entry in 2 a wkly comp to win FA Cup final tkts 21st May 2005. Text FA to 87121 to receive entry question(std txt rate)T&C's apply 08452810075over18's\""
      ]
     },
     "execution_count": 114,
     "metadata": {},
     "output_type": "execute_result"
    }
   ],
   "source": [
    "def find_features(d):\n",
    "    array = np.array([w in d for w in word_features])\n",
    "    return array"
   ]
  },
  {
   "cell_type": "code",
   "execution_count": 119,
   "metadata": {},
   "outputs": [],
   "source": [
    "features_set = np.array([])\n",
    "for m in data[\"v2\"]:\n",
    "    features_set = np.append(features_set, find_features(m))"
   ]
  },
  {
   "cell_type": "code",
   "execution_count": 123,
   "metadata": {},
   "outputs": [],
   "source": [
    "features_set = features_set.reshape(5572, 1500)"
   ]
  },
  {
   "cell_type": "code",
   "execution_count": 146,
   "metadata": {},
   "outputs": [
    {
     "name": "stderr",
     "output_type": "stream",
     "text": [
      "C:\\Users\\Rafael Martinez\\Anaconda3\\lib\\site-packages\\sklearn\\linear_model\\logistic.py:433: FutureWarning: Default solver will be changed to 'lbfgs' in 0.22. Specify a solver to silence this warning.\n",
      "  FutureWarning)\n",
      "C:\\Users\\Rafael Martinez\\Anaconda3\\lib\\site-packages\\sklearn\\utils\\validation.py:761: DataConversionWarning: A column-vector y was passed when a 1d array was expected. Please change the shape of y to (n_samples, ), for example using ravel().\n",
      "  y = column_or_1d(y, warn=True)\n"
     ]
    }
   ],
   "source": [
    "##TRAINING TIME\n",
    "\n",
    "##Separate Data\n",
    "X_train, X_test, Y_train, Y_test = train_test_split(features_set,Y,test_size=0.10)\n",
    "\n",
    "lg = LogisticRegression()\n",
    "lg.fit(X_train, Y_train)\n",
    "\n",
    "def error(actual_y, predict_y):\n",
    "    actual_y = actual_y.reshape(predict_y.shape[0],)\n",
    "    counter = 0\n",
    "    for i in range(predict_y.shape[0]):\n",
    "        if actual_y[i] != predict_y[i]:\n",
    "            counter += 1\n",
    "    return counter/predict_y.shape[0]"
   ]
  },
  {
   "cell_type": "code",
   "execution_count": 158,
   "metadata": {},
   "outputs": [
    {
     "name": "stdout",
     "output_type": "stream",
     "text": [
      "Accuracy of model for testing data: 0.985663082437276\n",
      "Accuracy of model for training data: 0.995811727163941\n"
     ]
    }
   ],
   "source": [
    "# Fit your model on the training set\n",
    "Y_fitted = lg.predict(X_train)\n",
    "\n",
    "# Predict housing prices on the test set\n",
    "Y_pred = lg.predict(X_test)\n",
    "\n",
    "\n",
    "train_error = error(Y_train, Y_fitted)\n",
    "\n",
    "test_error = error(Y_test, Y_pred)\n",
    "\n",
    "print(\"Accuracy of model for testing data: \" + str(1-test_error))\n",
    "print(\"Accuracy of model for training data: \" + str(1-train_error))"
   ]
  },
  {
   "cell_type": "code",
   "execution_count": 178,
   "metadata": {},
   "outputs": [
    {
     "data": {
      "text/plain": [
       "([array([4369.,    0.,    0.,    0.,    0.,    0.,    0.,    0.,    0.,\n",
       "          645.]),\n",
       "  array([4352.,    0.,    0.,    0.,    0.,    0.,    0.,    0.,    0.,\n",
       "          662.])],\n",
       " array([0. , 0.1, 0.2, 0.3, 0.4, 0.5, 0.6, 0.7, 0.8, 0.9, 1. ]),\n",
       " <a list of 2 Lists of Patches objects>)"
      ]
     },
     "execution_count": 178,
     "metadata": {},
     "output_type": "execute_result"
    },
    {
     "data": {
      "image/png": "[encoded data removed]",
      "text/plain": [
       "<Figure size 432x288 with 1 Axes>"
      ]
     },
     "metadata": {},
     "output_type": "display_data"
    }
   ],
   "source": [
    "plt.hist([Y_fitted, Y_train.reshape(Y_fitted.shape[0],)])"
   ]
  },
  {
   "cell_type": "code",
   "execution_count": 179,
   "metadata": {},
   "outputs": [
    {
     "data": {
      "text/plain": [
       "([array([479.,   0.,   0.,   0.,   0.,   0.,   0.,   0.,   0.,  79.]),\n",
       "  array([473.,   0.,   0.,   0.,   0.,   0.,   0.,   0.,   0.,  85.])],\n",
       " array([0. , 0.1, 0.2, 0.3, 0.4, 0.5, 0.6, 0.7, 0.8, 0.9, 1. ]),\n",
       " <a list of 2 Lists of Patches objects>)"
      ]
     },
     "execution_count": 179,
     "metadata": {},
     "output_type": "execute_result"
    },
    {
     "data": {
      "image/png": "[encoded data removed]",
      "text/plain": [
       "<Figure size 432x288 with 1 Axes>"
      ]
     },
     "metadata": {},
     "output_type": "display_data"
    }
   ],
   "source": [
    "plt.hist([Y_pred, Y_test.reshape(Y_pred.shape[0],)])"
   ]
  },
  {
   "cell_type": "code",
   "execution_count": null,
   "metadata": {},
   "outputs": [],
   "source": []
  }
 ],
 "metadata": {
  "kernelspec": {
   "display_name": "Python 3",
   "language": "python",
   "name": "python3"
  },
  "language_info": {
   "codemirror_mode": {
    "name": "ipython",
    "version": 3
   },
   "file_extension": ".py",
   "mimetype": "text/x-python",
   "name": "python",
   "nbconvert_exporter": "python",
   "pygments_lexer": "ipython3",
   "version": "3.7.3"
  }
 },
 "nbformat": 4,
 "nbformat_minor": 2
}
