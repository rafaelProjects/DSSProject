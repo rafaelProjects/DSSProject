{
 "cells": [
  {
   "cell_type": "code",
   "execution_count": 2,
   "metadata": {},
   "outputs": [],
   "source": [
    "import csv\n",
    "import pandas as pd\n",
    "from sklearn.feature_extraction.text import CountVectorizer\n",
    "from sklearn.feature_extraction.text import TfidfTransformer\n",
    "\n",
    "tfidf_transformer = TfidfTransformer()\n",
    "\n",
    "pred = pd.read_csv(\"sms-spam-collection-dataset/spam.csv\", encoding='latin-1')\n",
    "\n",
    "table = pred[\"v2\"]\n",
    "\n",
    "lst = []\n",
    "\n",
    "for i in table:\n",
    "    #we don't want to deal with uppercase this is why im doing it to lowercase\n",
    "    lst.append(i.lower())\n",
    "\n",
    "#We want to strip accents because these features are not really useful\n",
    "vectorizer = CountVectorizer(strip_accents='ascii')\n",
    "\n",
    "X = vectorizer.fit_transform(lst)\n"
   ]
  },
  {
   "cell_type": "code",
   "execution_count": null,
   "metadata": {},
   "outputs": [],
   "source": []
  }
 ],
 "metadata": {
  "kernelspec": {
   "display_name": "Python 3",
   "language": "python",
   "name": "python3"
  },
  "language_info": {
   "codemirror_mode": {
    "name": "ipython",
    "version": 3
   },
   "file_extension": ".py",
   "mimetype": "text/x-python",
   "name": "python",
   "nbconvert_exporter": "python",
   "pygments_lexer": "ipython3",
   "version": "3.7.3"
  }
 },
 "nbformat": 4,
 "nbformat_minor": 2
}
